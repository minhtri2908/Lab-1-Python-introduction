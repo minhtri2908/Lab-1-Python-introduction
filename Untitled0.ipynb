{
  "nbformat": 4,
  "nbformat_minor": 0,
  "metadata": {
    "colab": {
      "provenance": []
    },
    "kernelspec": {
      "name": "python3",
      "display_name": "Python 3"
    },
    "language_info": {
      "name": "python"
    },
    "gpuClass": "standard"
  },
  "cells": [
    {
      "cell_type": "code",
      "source": [
        "#\n",
        "# Phạm Minh Trí -  19522391\n",
        "#"
      ],
      "metadata": {
        "id": "DiXRxkFrieuV"
      },
      "execution_count": 1,
      "outputs": []
    },
    {
      "cell_type": "code",
      "source": [
        "# Numbers "
      ],
      "metadata": {
        "id": "lDMF4kFSUQYw"
      },
      "execution_count": 2,
      "outputs": []
    },
    {
      "cell_type": "code",
      "execution_count": 3,
      "metadata": {
        "id": "xOvEUCjKTEZ8",
        "colab": {
          "base_uri": "https://localhost:8080/"
        },
        "outputId": "ca51b0de-9fb0-4b88-bf12-27d691020d67"
      },
      "outputs": [
        {
          "output_type": "execute_result",
          "data": {
            "text/plain": [
              "2"
            ]
          },
          "metadata": {},
          "execution_count": 3
        }
      ],
      "source": [
        "1 + 1"
      ]
    },
    {
      "cell_type": "code",
      "source": [
        "1 * 3"
      ],
      "metadata": {
        "id": "AKvt-LlGT003",
        "colab": {
          "base_uri": "https://localhost:8080/"
        },
        "outputId": "ca02977c-c6e2-4bab-cbbf-cc4a65277109"
      },
      "execution_count": 4,
      "outputs": [
        {
          "output_type": "execute_result",
          "data": {
            "text/plain": [
              "3"
            ]
          },
          "metadata": {},
          "execution_count": 4
        }
      ]
    },
    {
      "cell_type": "code",
      "source": [
        "1 / 2"
      ],
      "metadata": {
        "id": "AlAhrGDJT4Lj",
        "colab": {
          "base_uri": "https://localhost:8080/"
        },
        "outputId": "cba24847-a10a-434c-f97c-9f05e213b3ef"
      },
      "execution_count": 5,
      "outputs": [
        {
          "output_type": "execute_result",
          "data": {
            "text/plain": [
              "0.5"
            ]
          },
          "metadata": {},
          "execution_count": 5
        }
      ]
    },
    {
      "cell_type": "code",
      "source": [
        "2 ** 4"
      ],
      "metadata": {
        "id": "0HQoq9SmT87r",
        "colab": {
          "base_uri": "https://localhost:8080/"
        },
        "outputId": "d41f48c8-ca1a-44b5-d463-b4e1e9e5ccb4"
      },
      "execution_count": 6,
      "outputs": [
        {
          "output_type": "execute_result",
          "data": {
            "text/plain": [
              "16"
            ]
          },
          "metadata": {},
          "execution_count": 6
        }
      ]
    },
    {
      "cell_type": "code",
      "source": [
        "4 % 2"
      ],
      "metadata": {
        "id": "BX1wQf-2UARX",
        "colab": {
          "base_uri": "https://localhost:8080/"
        },
        "outputId": "104fef6e-c391-4dfe-8bbc-86babe1e9d61"
      },
      "execution_count": 7,
      "outputs": [
        {
          "output_type": "execute_result",
          "data": {
            "text/plain": [
              "0"
            ]
          },
          "metadata": {},
          "execution_count": 7
        }
      ]
    },
    {
      "cell_type": "code",
      "source": [
        "5 % 2"
      ],
      "metadata": {
        "id": "UlpyfCd-UDe5",
        "colab": {
          "base_uri": "https://localhost:8080/"
        },
        "outputId": "05ff9613-1654-46a7-cd86-4c6ae2c9eb34"
      },
      "execution_count": 8,
      "outputs": [
        {
          "output_type": "execute_result",
          "data": {
            "text/plain": [
              "1"
            ]
          },
          "metadata": {},
          "execution_count": 8
        }
      ]
    },
    {
      "cell_type": "code",
      "source": [
        "(2 + 3) * (5 + 5)"
      ],
      "metadata": {
        "id": "vNPwdlwBUHVD",
        "colab": {
          "base_uri": "https://localhost:8080/"
        },
        "outputId": "38cb289c-6398-4f36-d0a7-664ca0efcabb"
      },
      "execution_count": 9,
      "outputs": [
        {
          "output_type": "execute_result",
          "data": {
            "text/plain": [
              "50"
            ]
          },
          "metadata": {},
          "execution_count": 9
        }
      ]
    },
    {
      "cell_type": "code",
      "source": [
        "# Variable assignment"
      ],
      "metadata": {
        "id": "jKydEkGyUSf-"
      },
      "execution_count": 10,
      "outputs": []
    },
    {
      "cell_type": "code",
      "source": [
        "name_of_var = 2"
      ],
      "metadata": {
        "id": "DK_sd7RGUVdQ"
      },
      "execution_count": 11,
      "outputs": []
    },
    {
      "cell_type": "code",
      "source": [
        "x = 2\n",
        "y = 3"
      ],
      "metadata": {
        "id": "2XwtJtf4UZiT"
      },
      "execution_count": 12,
      "outputs": []
    },
    {
      "cell_type": "code",
      "source": [
        "z = x + y"
      ],
      "metadata": {
        "id": "K_Ah3SiGUccp"
      },
      "execution_count": 13,
      "outputs": []
    },
    {
      "cell_type": "code",
      "source": [
        "z "
      ],
      "metadata": {
        "id": "Y-Fl1ObSUilR",
        "colab": {
          "base_uri": "https://localhost:8080/"
        },
        "outputId": "68f593fb-cfac-4b12-86da-9a1601e1f03b"
      },
      "execution_count": 14,
      "outputs": [
        {
          "output_type": "execute_result",
          "data": {
            "text/plain": [
              "5"
            ]
          },
          "metadata": {},
          "execution_count": 14
        }
      ]
    },
    {
      "cell_type": "code",
      "source": [
        " # String"
      ],
      "metadata": {
        "id": "XY5CStG9UrFV"
      },
      "execution_count": 15,
      "outputs": []
    },
    {
      "cell_type": "code",
      "source": [
        "'single quotes'"
      ],
      "metadata": {
        "id": "pFQeqVBKUsiJ",
        "colab": {
          "base_uri": "https://localhost:8080/",
          "height": 35
        },
        "outputId": "308cc37f-4b4b-459f-f837-4a97ca866668"
      },
      "execution_count": 16,
      "outputs": [
        {
          "output_type": "execute_result",
          "data": {
            "text/plain": [
              "'single quotes'"
            ],
            "application/vnd.google.colaboratory.intrinsic+json": {
              "type": "string"
            }
          },
          "metadata": {},
          "execution_count": 16
        }
      ]
    },
    {
      "cell_type": "code",
      "source": [
        "\"double quotes\""
      ],
      "metadata": {
        "id": "CXipjN4oUwmy",
        "colab": {
          "base_uri": "https://localhost:8080/",
          "height": 35
        },
        "outputId": "09139438-e0eb-4491-8536-a60724e03b9e"
      },
      "execution_count": 17,
      "outputs": [
        {
          "output_type": "execute_result",
          "data": {
            "text/plain": [
              "'double quotes'"
            ],
            "application/vnd.google.colaboratory.intrinsic+json": {
              "type": "string"
            }
          },
          "metadata": {},
          "execution_count": 17
        }
      ]
    },
    {
      "cell_type": "code",
      "source": [
        "\" wrap lot's of other quotes\""
      ],
      "metadata": {
        "id": "1LzNqiOtU0i9",
        "colab": {
          "base_uri": "https://localhost:8080/",
          "height": 35
        },
        "outputId": "476bf2d6-2cd1-4480-b64d-9fac3bc7822a"
      },
      "execution_count": 18,
      "outputs": [
        {
          "output_type": "execute_result",
          "data": {
            "text/plain": [
              "\" wrap lot's of other quotes\""
            ],
            "application/vnd.google.colaboratory.intrinsic+json": {
              "type": "string"
            }
          },
          "metadata": {},
          "execution_count": 18
        }
      ]
    },
    {
      "cell_type": "code",
      "source": [
        "# Ptrinting"
      ],
      "metadata": {
        "id": "go9fShDQU7L-"
      },
      "execution_count": 19,
      "outputs": []
    },
    {
      "cell_type": "code",
      "source": [
        "x = 'hello'\n",
        "x"
      ],
      "metadata": {
        "id": "W7ay8YsgU96l",
        "colab": {
          "base_uri": "https://localhost:8080/",
          "height": 35
        },
        "outputId": "7d09bca1-e905-48de-8265-9b27e9a20363"
      },
      "execution_count": 20,
      "outputs": [
        {
          "output_type": "execute_result",
          "data": {
            "text/plain": [
              "'hello'"
            ],
            "application/vnd.google.colaboratory.intrinsic+json": {
              "type": "string"
            }
          },
          "metadata": {},
          "execution_count": 20
        }
      ]
    },
    {
      "cell_type": "code",
      "source": [
        "print(x)"
      ],
      "metadata": {
        "id": "BTHA8B7ZVCKc",
        "colab": {
          "base_uri": "https://localhost:8080/"
        },
        "outputId": "6d0dd66a-768b-4791-f83e-d9eecb20e9bc"
      },
      "execution_count": 21,
      "outputs": [
        {
          "output_type": "stream",
          "name": "stdout",
          "text": [
            "hello\n"
          ]
        }
      ]
    },
    {
      "cell_type": "code",
      "source": [
        "num = 12\n",
        "name = 'Sam'"
      ],
      "metadata": {
        "id": "MFbM-KVjVFKO"
      },
      "execution_count": 22,
      "outputs": []
    },
    {
      "cell_type": "code",
      "source": [
        "print('My number is: {one}, and my name is: {two}'.format(one=num, two=name))"
      ],
      "metadata": {
        "id": "kGcO6HrSVJKf",
        "colab": {
          "base_uri": "https://localhost:8080/"
        },
        "outputId": "cad91a21-8404-4648-a58d-46282f1fe51f"
      },
      "execution_count": 23,
      "outputs": [
        {
          "output_type": "stream",
          "name": "stdout",
          "text": [
            "My number is: 12, and my name is: Sam\n"
          ]
        }
      ]
    },
    {
      "cell_type": "code",
      "source": [
        "print('My number is: {}, and my name is: {}'.format(num, name))"
      ],
      "metadata": {
        "id": "ehYQgz_fVoWU",
        "colab": {
          "base_uri": "https://localhost:8080/"
        },
        "outputId": "ae9fa767-63f9-460e-cd87-a19a16939332"
      },
      "execution_count": 24,
      "outputs": [
        {
          "output_type": "stream",
          "name": "stdout",
          "text": [
            "My number is: 12, and my name is: Sam\n"
          ]
        }
      ]
    },
    {
      "cell_type": "code",
      "source": [
        "[1, 2, 3]"
      ],
      "metadata": {
        "id": "53jviKdqV0U0",
        "colab": {
          "base_uri": "https://localhost:8080/"
        },
        "outputId": "50057573-a0bf-48c6-aae7-6d4c2b38825f"
      },
      "execution_count": 25,
      "outputs": [
        {
          "output_type": "execute_result",
          "data": {
            "text/plain": [
              "[1, 2, 3]"
            ]
          },
          "metadata": {},
          "execution_count": 25
        }
      ]
    },
    {
      "cell_type": "code",
      "source": [
        "['hi', 1, [1, 2]]"
      ],
      "metadata": {
        "id": "hKAbVt73V3zm",
        "colab": {
          "base_uri": "https://localhost:8080/"
        },
        "outputId": "c4dc99c3-3814-45f0-ebea-e9928730f1b3"
      },
      "execution_count": 26,
      "outputs": [
        {
          "output_type": "execute_result",
          "data": {
            "text/plain": [
              "['hi', 1, [1, 2]]"
            ]
          },
          "metadata": {},
          "execution_count": 26
        }
      ]
    },
    {
      "cell_type": "code",
      "source": [
        "my_list = ['a', 'b', 'c']"
      ],
      "metadata": {
        "id": "WWzZdSH9V9u8"
      },
      "execution_count": 27,
      "outputs": []
    },
    {
      "cell_type": "code",
      "source": [
        "my_list.append('d')"
      ],
      "metadata": {
        "id": "uvVwcJBJWGjI"
      },
      "execution_count": 28,
      "outputs": []
    },
    {
      "cell_type": "code",
      "source": [
        "my_list"
      ],
      "metadata": {
        "id": "KX0_KTa8WKdQ",
        "colab": {
          "base_uri": "https://localhost:8080/"
        },
        "outputId": "d5713440-2dc9-4328-cb5f-fc009a869c03"
      },
      "execution_count": 29,
      "outputs": [
        {
          "output_type": "execute_result",
          "data": {
            "text/plain": [
              "['a', 'b', 'c', 'd']"
            ]
          },
          "metadata": {},
          "execution_count": 29
        }
      ]
    },
    {
      "cell_type": "code",
      "source": [
        "my_list[0]"
      ],
      "metadata": {
        "id": "Ia73nRq-WL4a",
        "colab": {
          "base_uri": "https://localhost:8080/",
          "height": 35
        },
        "outputId": "776240c7-0363-40ea-80af-2600924cd83a"
      },
      "execution_count": 30,
      "outputs": [
        {
          "output_type": "execute_result",
          "data": {
            "text/plain": [
              "'a'"
            ],
            "application/vnd.google.colaboratory.intrinsic+json": {
              "type": "string"
            }
          },
          "metadata": {},
          "execution_count": 30
        }
      ]
    },
    {
      "cell_type": "code",
      "source": [
        "my_list[1]"
      ],
      "metadata": {
        "id": "XVKVZgkHWSTn",
        "colab": {
          "base_uri": "https://localhost:8080/",
          "height": 35
        },
        "outputId": "7d6b9a62-f477-44c0-833a-90cc203976cd"
      },
      "execution_count": 31,
      "outputs": [
        {
          "output_type": "execute_result",
          "data": {
            "text/plain": [
              "'b'"
            ],
            "application/vnd.google.colaboratory.intrinsic+json": {
              "type": "string"
            }
          },
          "metadata": {},
          "execution_count": 31
        }
      ]
    },
    {
      "cell_type": "code",
      "source": [
        "my_list[1:]"
      ],
      "metadata": {
        "id": "6QsmUXX3WWPe",
        "colab": {
          "base_uri": "https://localhost:8080/"
        },
        "outputId": "c7e83bdb-7baa-4936-b78c-eacf34697fca"
      },
      "execution_count": 32,
      "outputs": [
        {
          "output_type": "execute_result",
          "data": {
            "text/plain": [
              "['b', 'c', 'd']"
            ]
          },
          "metadata": {},
          "execution_count": 32
        }
      ]
    },
    {
      "cell_type": "code",
      "source": [
        "my_list[:1]"
      ],
      "metadata": {
        "id": "K9IkicD5WcpT",
        "colab": {
          "base_uri": "https://localhost:8080/"
        },
        "outputId": "873d6ade-85d1-429c-e18c-f651b4534099"
      },
      "execution_count": 33,
      "outputs": [
        {
          "output_type": "execute_result",
          "data": {
            "text/plain": [
              "['a']"
            ]
          },
          "metadata": {},
          "execution_count": 33
        }
      ]
    },
    {
      "cell_type": "code",
      "source": [
        "my_list[0] = 'NEW'"
      ],
      "metadata": {
        "id": "ESvMh5woWiuq"
      },
      "execution_count": 34,
      "outputs": []
    },
    {
      "cell_type": "code",
      "source": [
        "my_list"
      ],
      "metadata": {
        "id": "6-rqmSenWty7",
        "colab": {
          "base_uri": "https://localhost:8080/"
        },
        "outputId": "7f2cfff9-c438-4f95-e3d4-57d42d510d66"
      },
      "execution_count": 35,
      "outputs": [
        {
          "output_type": "execute_result",
          "data": {
            "text/plain": [
              "['NEW', 'b', 'c', 'd']"
            ]
          },
          "metadata": {},
          "execution_count": 35
        }
      ]
    },
    {
      "cell_type": "code",
      "source": [
        "nest = [1,2,3,[4,5,['target']]]"
      ],
      "metadata": {
        "id": "WFOVCbMzWxY6"
      },
      "execution_count": 36,
      "outputs": []
    },
    {
      "cell_type": "code",
      "source": [
        "nest[3]"
      ],
      "metadata": {
        "id": "wJxnC-aqW7DM",
        "colab": {
          "base_uri": "https://localhost:8080/"
        },
        "outputId": "8f0426aa-82a1-41b8-bd88-ade8d90d015e"
      },
      "execution_count": 37,
      "outputs": [
        {
          "output_type": "execute_result",
          "data": {
            "text/plain": [
              "[4, 5, ['target']]"
            ]
          },
          "metadata": {},
          "execution_count": 37
        }
      ]
    },
    {
      "cell_type": "code",
      "source": [
        "nest[3][2]"
      ],
      "metadata": {
        "id": "WiWsuSCxXUfp",
        "colab": {
          "base_uri": "https://localhost:8080/"
        },
        "outputId": "ed1bb88b-75c4-4ab8-df3d-15203148c1ed"
      },
      "execution_count": 38,
      "outputs": [
        {
          "output_type": "execute_result",
          "data": {
            "text/plain": [
              "['target']"
            ]
          },
          "metadata": {},
          "execution_count": 38
        }
      ]
    },
    {
      "cell_type": "code",
      "source": [
        "nest[3][2][0]"
      ],
      "metadata": {
        "id": "O8P3WxjAXZcW",
        "colab": {
          "base_uri": "https://localhost:8080/",
          "height": 35
        },
        "outputId": "e5c9e917-2213-4602-bdb7-dce50c6dc705"
      },
      "execution_count": 39,
      "outputs": [
        {
          "output_type": "execute_result",
          "data": {
            "text/plain": [
              "'target'"
            ],
            "application/vnd.google.colaboratory.intrinsic+json": {
              "type": "string"
            }
          },
          "metadata": {},
          "execution_count": 39
        }
      ]
    },
    {
      "cell_type": "code",
      "source": [
        "# Dictionaries"
      ],
      "metadata": {
        "id": "6p20pNYjXexu"
      },
      "execution_count": 40,
      "outputs": []
    },
    {
      "cell_type": "code",
      "source": [
        "d = {'key1':'item1','key2':'item2'}"
      ],
      "metadata": {
        "id": "4AnYesmJXhAS"
      },
      "execution_count": 41,
      "outputs": []
    },
    {
      "cell_type": "code",
      "source": [
        "d"
      ],
      "metadata": {
        "id": "muyM7OUtX-Y8",
        "colab": {
          "base_uri": "https://localhost:8080/"
        },
        "outputId": "2965cdea-a435-4114-9da0-3ce4aa7e0e3b"
      },
      "execution_count": 42,
      "outputs": [
        {
          "output_type": "execute_result",
          "data": {
            "text/plain": [
              "{'key1': 'item1', 'key2': 'item2'}"
            ]
          },
          "metadata": {},
          "execution_count": 42
        }
      ]
    },
    {
      "cell_type": "code",
      "source": [
        "d['key1']"
      ],
      "metadata": {
        "id": "pBAC4IMKYBdX",
        "colab": {
          "base_uri": "https://localhost:8080/",
          "height": 35
        },
        "outputId": "4a6e6428-9300-4333-9dd4-87f1ddb5c174"
      },
      "execution_count": 43,
      "outputs": [
        {
          "output_type": "execute_result",
          "data": {
            "text/plain": [
              "'item1'"
            ],
            "application/vnd.google.colaboratory.intrinsic+json": {
              "type": "string"
            }
          },
          "metadata": {},
          "execution_count": 43
        }
      ]
    },
    {
      "cell_type": "code",
      "source": [
        "# Booleans"
      ],
      "metadata": {
        "id": "r2leeG8xYvFC"
      },
      "execution_count": 44,
      "outputs": []
    },
    {
      "cell_type": "code",
      "source": [
        "True"
      ],
      "metadata": {
        "id": "LazvpZX-YyID",
        "colab": {
          "base_uri": "https://localhost:8080/"
        },
        "outputId": "c05babee-7621-40e5-a4e1-c881bad732e7"
      },
      "execution_count": 45,
      "outputs": [
        {
          "output_type": "execute_result",
          "data": {
            "text/plain": [
              "True"
            ]
          },
          "metadata": {},
          "execution_count": 45
        }
      ]
    },
    {
      "cell_type": "code",
      "source": [
        "False"
      ],
      "metadata": {
        "id": "7JEPZvsQY15u",
        "colab": {
          "base_uri": "https://localhost:8080/"
        },
        "outputId": "47a82dfe-04ec-4e4f-cf05-daacd42a3655"
      },
      "execution_count": 46,
      "outputs": [
        {
          "output_type": "execute_result",
          "data": {
            "text/plain": [
              "False"
            ]
          },
          "metadata": {},
          "execution_count": 46
        }
      ]
    },
    {
      "cell_type": "code",
      "source": [
        "# Tuples"
      ],
      "metadata": {
        "id": "DgQhqZKsY475"
      },
      "execution_count": 47,
      "outputs": []
    },
    {
      "cell_type": "code",
      "source": [
        "t = (1, 2, 3)"
      ],
      "metadata": {
        "id": "SOVQmkceZByn"
      },
      "execution_count": 48,
      "outputs": []
    },
    {
      "cell_type": "code",
      "source": [
        "t[0]"
      ],
      "metadata": {
        "id": "pp3R_Hl_ZGzF",
        "colab": {
          "base_uri": "https://localhost:8080/"
        },
        "outputId": "f98b538e-4316-4bec-ac83-e1ae96a372f9"
      },
      "execution_count": 49,
      "outputs": [
        {
          "output_type": "execute_result",
          "data": {
            "text/plain": [
              "1"
            ]
          },
          "metadata": {},
          "execution_count": 49
        }
      ]
    },
    {
      "cell_type": "code",
      "source": [
        "t = [1, 2, 3]\n",
        "\n"
      ],
      "metadata": {
        "id": "lsygbWlQZIr7"
      },
      "execution_count": 50,
      "outputs": []
    },
    {
      "cell_type": "code",
      "source": [
        "t[0] = 'NEW'"
      ],
      "metadata": {
        "id": "oQ6bbF0ObGh5"
      },
      "execution_count": 51,
      "outputs": []
    },
    {
      "cell_type": "code",
      "source": [
        "# Sets"
      ],
      "metadata": {
        "id": "qXRW_oTSbMeX"
      },
      "execution_count": 52,
      "outputs": []
    },
    {
      "cell_type": "code",
      "source": [
        "{1, 2, 3}"
      ],
      "metadata": {
        "id": "1-pjV7fsbQPB",
        "colab": {
          "base_uri": "https://localhost:8080/"
        },
        "outputId": "02f5e606-e32d-45c6-a7c4-77d2b9a48ece"
      },
      "execution_count": 53,
      "outputs": [
        {
          "output_type": "execute_result",
          "data": {
            "text/plain": [
              "{1, 2, 3}"
            ]
          },
          "metadata": {},
          "execution_count": 53
        }
      ]
    },
    {
      "cell_type": "code",
      "source": [
        "{1, 2, 3, 1, 2, 1, 2, 3, 3, 3, 3, 2, 2, 2, 1, 1, 2}"
      ],
      "metadata": {
        "id": "jDo-DlZJbTKa",
        "colab": {
          "base_uri": "https://localhost:8080/"
        },
        "outputId": "b78bb0cb-a8a2-4ec2-9e56-4a5181ccc48f"
      },
      "execution_count": 54,
      "outputs": [
        {
          "output_type": "execute_result",
          "data": {
            "text/plain": [
              "{1, 2, 3}"
            ]
          },
          "metadata": {},
          "execution_count": 54
        }
      ]
    },
    {
      "cell_type": "code",
      "source": [
        "# Comparison Operators"
      ],
      "metadata": {
        "id": "qowdVdQtbdJt"
      },
      "execution_count": 55,
      "outputs": []
    },
    {
      "cell_type": "code",
      "source": [
        "1 > 2"
      ],
      "metadata": {
        "id": "pQkh2XHWbf6m",
        "colab": {
          "base_uri": "https://localhost:8080/"
        },
        "outputId": "38b0c14f-3b2f-41cc-e839-bc4e04ced79f"
      },
      "execution_count": 56,
      "outputs": [
        {
          "output_type": "execute_result",
          "data": {
            "text/plain": [
              "False"
            ]
          },
          "metadata": {},
          "execution_count": 56
        }
      ]
    },
    {
      "cell_type": "code",
      "source": [
        "1 < 2"
      ],
      "metadata": {
        "id": "QseHveEvbh_s",
        "colab": {
          "base_uri": "https://localhost:8080/"
        },
        "outputId": "d29b0654-badd-4343-d331-949c129a1949"
      },
      "execution_count": 57,
      "outputs": [
        {
          "output_type": "execute_result",
          "data": {
            "text/plain": [
              "True"
            ]
          },
          "metadata": {},
          "execution_count": 57
        }
      ]
    },
    {
      "cell_type": "code",
      "source": [
        "1 >= 1"
      ],
      "metadata": {
        "id": "N-VWrKTebjBp",
        "colab": {
          "base_uri": "https://localhost:8080/"
        },
        "outputId": "8e62286a-1edb-45e7-f18e-fe6840750822"
      },
      "execution_count": 58,
      "outputs": [
        {
          "output_type": "execute_result",
          "data": {
            "text/plain": [
              "True"
            ]
          },
          "metadata": {},
          "execution_count": 58
        }
      ]
    },
    {
      "cell_type": "code",
      "source": [
        "1 <= 4"
      ],
      "metadata": {
        "id": "-lJiv260bliO",
        "colab": {
          "base_uri": "https://localhost:8080/"
        },
        "outputId": "50f414e2-353b-49a3-b546-35cef9167fdb"
      },
      "execution_count": 59,
      "outputs": [
        {
          "output_type": "execute_result",
          "data": {
            "text/plain": [
              "True"
            ]
          },
          "metadata": {},
          "execution_count": 59
        }
      ]
    },
    {
      "cell_type": "code",
      "source": [
        "1 == 1"
      ],
      "metadata": {
        "id": "bTIUsKgPbslY",
        "colab": {
          "base_uri": "https://localhost:8080/"
        },
        "outputId": "2de818b1-e710-4242-cae3-3db49ce493d4"
      },
      "execution_count": 60,
      "outputs": [
        {
          "output_type": "execute_result",
          "data": {
            "text/plain": [
              "True"
            ]
          },
          "metadata": {},
          "execution_count": 60
        }
      ]
    },
    {
      "cell_type": "code",
      "source": [
        "'hi' == 'bye'"
      ],
      "metadata": {
        "id": "OIOs64z6bwqo",
        "colab": {
          "base_uri": "https://localhost:8080/"
        },
        "outputId": "a5c3d5c2-5a06-4868-8f1e-0c6e5e7c5574"
      },
      "execution_count": 61,
      "outputs": [
        {
          "output_type": "execute_result",
          "data": {
            "text/plain": [
              "False"
            ]
          },
          "metadata": {},
          "execution_count": 61
        }
      ]
    },
    {
      "cell_type": "code",
      "source": [
        "# Logic Operators "
      ],
      "metadata": {
        "id": "XPxND9q7b0Ck"
      },
      "execution_count": 62,
      "outputs": []
    },
    {
      "cell_type": "code",
      "source": [
        "(1 > 2) and (2 < 3)"
      ],
      "metadata": {
        "id": "jlfiL9qMb3JG",
        "colab": {
          "base_uri": "https://localhost:8080/"
        },
        "outputId": "cf6e328e-6965-4ef1-c829-87e22aafe348"
      },
      "execution_count": 63,
      "outputs": [
        {
          "output_type": "execute_result",
          "data": {
            "text/plain": [
              "False"
            ]
          },
          "metadata": {},
          "execution_count": 63
        }
      ]
    },
    {
      "cell_type": "code",
      "source": [
        "(1 > 2) or (2 < 3)"
      ],
      "metadata": {
        "id": "US7fVHReb7In",
        "colab": {
          "base_uri": "https://localhost:8080/"
        },
        "outputId": "2f0d9957-fda9-4bb9-dd04-103dd05cc64e"
      },
      "execution_count": 64,
      "outputs": [
        {
          "output_type": "execute_result",
          "data": {
            "text/plain": [
              "True"
            ]
          },
          "metadata": {},
          "execution_count": 64
        }
      ]
    },
    {
      "cell_type": "code",
      "source": [
        "(1 == 2) or (2 == 3) or (4 == 4)"
      ],
      "metadata": {
        "id": "XVSOm_U-cACy",
        "colab": {
          "base_uri": "https://localhost:8080/"
        },
        "outputId": "84a83694-48db-4bfb-9804-0c22dc5c7f8e"
      },
      "execution_count": 65,
      "outputs": [
        {
          "output_type": "execute_result",
          "data": {
            "text/plain": [
              "True"
            ]
          },
          "metadata": {},
          "execution_count": 65
        }
      ]
    },
    {
      "cell_type": "code",
      "source": [
        "# If, elseif, else Statement "
      ],
      "metadata": {
        "id": "XkA0x8rAcH7j"
      },
      "execution_count": 66,
      "outputs": []
    },
    {
      "cell_type": "code",
      "source": [
        "if 1 < 2:\n",
        "  print('Yep!')"
      ],
      "metadata": {
        "id": "GiezTlm5cKZW",
        "colab": {
          "base_uri": "https://localhost:8080/"
        },
        "outputId": "0ff3d641-0c4f-4e20-c926-73ec68989919"
      },
      "execution_count": 67,
      "outputs": [
        {
          "output_type": "stream",
          "name": "stdout",
          "text": [
            "Yep!\n"
          ]
        }
      ]
    },
    {
      "cell_type": "code",
      "source": [
        "if 1 < 2:\n",
        "  print('Yep!')"
      ],
      "metadata": {
        "id": "U3m-as-ocQW5",
        "colab": {
          "base_uri": "https://localhost:8080/"
        },
        "outputId": "d272b16d-e8cc-4cf2-f8d2-cbd09ae90ceb"
      },
      "execution_count": 68,
      "outputs": [
        {
          "output_type": "stream",
          "name": "stdout",
          "text": [
            "Yep!\n"
          ]
        }
      ]
    },
    {
      "cell_type": "code",
      "source": [
        "if 1 < 2:\n",
        "  print('first')\n",
        "else:\n",
        "  print('last')  "
      ],
      "metadata": {
        "id": "XwKygkPtcVN3",
        "colab": {
          "base_uri": "https://localhost:8080/"
        },
        "outputId": "9290ef7a-17a4-4bfa-db45-41e47ec12778"
      },
      "execution_count": 69,
      "outputs": [
        {
          "output_type": "stream",
          "name": "stdout",
          "text": [
            "first\n"
          ]
        }
      ]
    },
    {
      "cell_type": "code",
      "source": [
        "if 1 > 2:\n",
        "  print('first')\n",
        "else:\n",
        "  print('last') "
      ],
      "metadata": {
        "id": "TJFGBXX1cn_f",
        "colab": {
          "base_uri": "https://localhost:8080/"
        },
        "outputId": "ab332e38-aa13-4db0-ec9d-976ac24423fd"
      },
      "execution_count": 70,
      "outputs": [
        {
          "output_type": "stream",
          "name": "stdout",
          "text": [
            "last\n"
          ]
        }
      ]
    },
    {
      "cell_type": "code",
      "source": [
        "if 1 == 2:\n",
        "  print('first')\n",
        "elif 3 == 3:\n",
        "  print('middle')\n",
        "else:\n",
        "  print(\"Last\")    "
      ],
      "metadata": {
        "id": "5lgLIzycct_E",
        "colab": {
          "base_uri": "https://localhost:8080/"
        },
        "outputId": "2917c121-ba0a-4c1e-9543-e98487082e45"
      },
      "execution_count": 71,
      "outputs": [
        {
          "output_type": "stream",
          "name": "stdout",
          "text": [
            "middle\n"
          ]
        }
      ]
    },
    {
      "cell_type": "code",
      "source": [
        "# For Loops "
      ],
      "metadata": {
        "id": "e7SJ-DfCc7x6"
      },
      "execution_count": 72,
      "outputs": []
    },
    {
      "cell_type": "code",
      "source": [
        "seq = [1, 2, 3, 4, 5]"
      ],
      "metadata": {
        "id": "ZZOZLPlKc-0D"
      },
      "execution_count": 73,
      "outputs": []
    },
    {
      "cell_type": "code",
      "source": [
        "for item in seq:\n",
        "  print(item)"
      ],
      "metadata": {
        "id": "MvybMRDpdCvK",
        "colab": {
          "base_uri": "https://localhost:8080/"
        },
        "outputId": "69d8ec4c-2a03-488f-e6a5-7fbb48b6a6f7"
      },
      "execution_count": 74,
      "outputs": [
        {
          "output_type": "stream",
          "name": "stdout",
          "text": [
            "1\n",
            "2\n",
            "3\n",
            "4\n",
            "5\n"
          ]
        }
      ]
    },
    {
      "cell_type": "code",
      "source": [
        "for item in seq:\n",
        "  print('Yep')"
      ],
      "metadata": {
        "id": "IWtdTvXOdrqI",
        "colab": {
          "base_uri": "https://localhost:8080/"
        },
        "outputId": "1c8c8d47-b0f9-4e78-9b3d-6a5e045e24c1"
      },
      "execution_count": 75,
      "outputs": [
        {
          "output_type": "stream",
          "name": "stdout",
          "text": [
            "Yep\n",
            "Yep\n",
            "Yep\n",
            "Yep\n",
            "Yep\n"
          ]
        }
      ]
    },
    {
      "cell_type": "code",
      "source": [
        "for jelly in seq:\n",
        "  print(jelly+jelly)"
      ],
      "metadata": {
        "id": "OcMGkAzwdwtO",
        "colab": {
          "base_uri": "https://localhost:8080/"
        },
        "outputId": "a484be1e-b26a-4855-cfaa-a2fc154de8d3"
      },
      "execution_count": 76,
      "outputs": [
        {
          "output_type": "stream",
          "name": "stdout",
          "text": [
            "2\n",
            "4\n",
            "6\n",
            "8\n",
            "10\n"
          ]
        }
      ]
    },
    {
      "cell_type": "code",
      "source": [
        "# While Loops"
      ],
      "metadata": {
        "id": "phUj4SLbd5Z0"
      },
      "execution_count": 77,
      "outputs": []
    },
    {
      "cell_type": "code",
      "source": [
        "i = 1\n",
        "while i < 5:\n",
        "  print('i in is: {}'.format(i))\n",
        "  i = i+1"
      ],
      "metadata": {
        "id": "fVVGyHyoeF3Q",
        "colab": {
          "base_uri": "https://localhost:8080/"
        },
        "outputId": "0bbdf436-2130-42ed-e715-ae637e06c86d"
      },
      "execution_count": 78,
      "outputs": [
        {
          "output_type": "stream",
          "name": "stdout",
          "text": [
            "i in is: 1\n",
            "i in is: 2\n",
            "i in is: 3\n",
            "i in is: 4\n"
          ]
        }
      ]
    },
    {
      "cell_type": "code",
      "source": [
        "# Range "
      ],
      "metadata": {
        "id": "xJctWSBweSUF"
      },
      "execution_count": 79,
      "outputs": []
    },
    {
      "cell_type": "code",
      "source": [
        "range(5)"
      ],
      "metadata": {
        "id": "eu7zRFQXehef",
        "colab": {
          "base_uri": "https://localhost:8080/"
        },
        "outputId": "e5e0dd37-387a-42ed-f64a-cad4ec1b91bc"
      },
      "execution_count": 80,
      "outputs": [
        {
          "output_type": "execute_result",
          "data": {
            "text/plain": [
              "range(0, 5)"
            ]
          },
          "metadata": {},
          "execution_count": 80
        }
      ]
    },
    {
      "cell_type": "code",
      "source": [
        "for i in range(5):\n",
        "  print(i)"
      ],
      "metadata": {
        "id": "rjdqKfVlekvq",
        "colab": {
          "base_uri": "https://localhost:8080/"
        },
        "outputId": "64aafe99-4e31-48ff-bf92-12189f0c19ba"
      },
      "execution_count": 81,
      "outputs": [
        {
          "output_type": "stream",
          "name": "stdout",
          "text": [
            "0\n",
            "1\n",
            "2\n",
            "3\n",
            "4\n"
          ]
        }
      ]
    },
    {
      "cell_type": "code",
      "source": [
        "list(range(5))"
      ],
      "metadata": {
        "id": "b4XAtKJPeqsf",
        "colab": {
          "base_uri": "https://localhost:8080/"
        },
        "outputId": "4b338cb9-3b42-433d-8fdc-c0c999397f11"
      },
      "execution_count": 82,
      "outputs": [
        {
          "output_type": "execute_result",
          "data": {
            "text/plain": [
              "[0, 1, 2, 3, 4]"
            ]
          },
          "metadata": {},
          "execution_count": 82
        }
      ]
    },
    {
      "cell_type": "code",
      "source": [
        "# List Comprehension"
      ],
      "metadata": {
        "id": "ob8EuYIXevZU"
      },
      "execution_count": 83,
      "outputs": []
    },
    {
      "cell_type": "code",
      "source": [
        "x = [1, 2, 3, 4]"
      ],
      "metadata": {
        "id": "1-9Sdz_peyJb"
      },
      "execution_count": 84,
      "outputs": []
    },
    {
      "cell_type": "code",
      "source": [
        "out = []\n",
        "for item in x:\n",
        "  out.append(item**2)\n",
        "print(out)  "
      ],
      "metadata": {
        "id": "jkc_GNwre1qR",
        "colab": {
          "base_uri": "https://localhost:8080/"
        },
        "outputId": "79fe82ac-8c1f-4cb5-dec6-79bf6a041afa"
      },
      "execution_count": 85,
      "outputs": [
        {
          "output_type": "stream",
          "name": "stdout",
          "text": [
            "[1, 4, 9, 16]\n"
          ]
        }
      ]
    },
    {
      "cell_type": "code",
      "source": [
        "[item**2 for item in x]"
      ],
      "metadata": {
        "id": "DONQfZ-6fJTZ",
        "colab": {
          "base_uri": "https://localhost:8080/"
        },
        "outputId": "35c18afa-1399-4de8-9350-f43b9e5b90ec"
      },
      "execution_count": 86,
      "outputs": [
        {
          "output_type": "execute_result",
          "data": {
            "text/plain": [
              "[1, 4, 9, 16]"
            ]
          },
          "metadata": {},
          "execution_count": 86
        }
      ]
    },
    {
      "cell_type": "code",
      "source": [
        "# Functions"
      ],
      "metadata": {
        "id": "d2yJee0GfQoP"
      },
      "execution_count": 87,
      "outputs": []
    },
    {
      "cell_type": "code",
      "source": [
        "def my_func(paraml='default'):\n",
        "    \"\"\"\n",
        "    Docstring goes here.\n",
        "    \"\"\"\n",
        "    print(paraml)"
      ],
      "metadata": {
        "id": "j9l-UsW1fTXk"
      },
      "execution_count": 88,
      "outputs": []
    },
    {
      "cell_type": "code",
      "source": [
        "my_func"
      ],
      "metadata": {
        "id": "EyfKCjqCfzek",
        "colab": {
          "base_uri": "https://localhost:8080/"
        },
        "outputId": "38e049b0-c51c-4b3f-8193-f46f71be8cc6"
      },
      "execution_count": 89,
      "outputs": [
        {
          "output_type": "execute_result",
          "data": {
            "text/plain": [
              "<function __main__.my_func(paraml='default')>"
            ]
          },
          "metadata": {},
          "execution_count": 89
        }
      ]
    },
    {
      "cell_type": "code",
      "source": [
        "my_func()"
      ],
      "metadata": {
        "id": "kSDlk0a9f3Kb",
        "colab": {
          "base_uri": "https://localhost:8080/"
        },
        "outputId": "294de4d7-1def-4310-ef9c-2f4ed40aeb56"
      },
      "execution_count": 90,
      "outputs": [
        {
          "output_type": "stream",
          "name": "stdout",
          "text": [
            "default\n"
          ]
        }
      ]
    },
    {
      "cell_type": "code",
      "source": [
        "my_func('new param')"
      ],
      "metadata": {
        "id": "_P1TMvNzf9PG",
        "colab": {
          "base_uri": "https://localhost:8080/"
        },
        "outputId": "7da5e29b-8652-4a99-c128-871abff63a89"
      },
      "execution_count": 91,
      "outputs": [
        {
          "output_type": "stream",
          "name": "stdout",
          "text": [
            "new param\n"
          ]
        }
      ]
    },
    {
      "cell_type": "code",
      "source": [
        "my_func(paraml='new param')"
      ],
      "metadata": {
        "id": "6f7PE-GHgCUT",
        "colab": {
          "base_uri": "https://localhost:8080/"
        },
        "outputId": "287ab3f9-e79c-4925-d10e-3dfbfe82d36f"
      },
      "execution_count": 92,
      "outputs": [
        {
          "output_type": "stream",
          "name": "stdout",
          "text": [
            "new param\n"
          ]
        }
      ]
    },
    {
      "cell_type": "code",
      "source": [
        "def square(x):\n",
        "  return x**2"
      ],
      "metadata": {
        "id": "pNq283bIgKpU"
      },
      "execution_count": 93,
      "outputs": []
    },
    {
      "cell_type": "code",
      "source": [
        "out = square(2)"
      ],
      "metadata": {
        "id": "VGnQn5NUgSKP"
      },
      "execution_count": 94,
      "outputs": []
    },
    {
      "cell_type": "code",
      "source": [
        "print(out)"
      ],
      "metadata": {
        "id": "HYpKW6jTgYGr",
        "colab": {
          "base_uri": "https://localhost:8080/"
        },
        "outputId": "a3253bd1-584f-4ac0-b078-5cfc589af264"
      },
      "execution_count": 95,
      "outputs": [
        {
          "output_type": "stream",
          "name": "stdout",
          "text": [
            "4\n"
          ]
        }
      ]
    },
    {
      "cell_type": "code",
      "source": [
        "# Lambda expression"
      ],
      "metadata": {
        "id": "rvUr82GJgcAQ"
      },
      "execution_count": 96,
      "outputs": []
    },
    {
      "cell_type": "code",
      "source": [
        "def times2(var):\n",
        "  return var*2"
      ],
      "metadata": {
        "id": "L0ErMH4JgfyH"
      },
      "execution_count": 97,
      "outputs": []
    },
    {
      "cell_type": "code",
      "source": [
        "times2(2)"
      ],
      "metadata": {
        "id": "zymlKCILgmQl",
        "colab": {
          "base_uri": "https://localhost:8080/"
        },
        "outputId": "5a45c966-a15f-4e01-c816-89de23b41847"
      },
      "execution_count": 98,
      "outputs": [
        {
          "output_type": "execute_result",
          "data": {
            "text/plain": [
              "4"
            ]
          },
          "metadata": {},
          "execution_count": 98
        }
      ]
    },
    {
      "cell_type": "code",
      "source": [
        "lambda var: var*2"
      ],
      "metadata": {
        "id": "AMfVlzbRgo4f",
        "colab": {
          "base_uri": "https://localhost:8080/"
        },
        "outputId": "3dce3cd6-b478-4aa3-ffb0-d502ae61b667"
      },
      "execution_count": 99,
      "outputs": [
        {
          "output_type": "execute_result",
          "data": {
            "text/plain": [
              "<function __main__.<lambda>(var)>"
            ]
          },
          "metadata": {},
          "execution_count": 99
        }
      ]
    },
    {
      "cell_type": "code",
      "source": [
        "# Map and filter"
      ],
      "metadata": {
        "id": "QB9N26ljgwT3"
      },
      "execution_count": 100,
      "outputs": []
    },
    {
      "cell_type": "code",
      "source": [
        "seq = [1,2,3,4,5]"
      ],
      "metadata": {
        "id": "YHT0Yb7Cgz_K"
      },
      "execution_count": 101,
      "outputs": []
    },
    {
      "cell_type": "code",
      "source": [
        "map(times2, seq)"
      ],
      "metadata": {
        "id": "_Fze0zCLg3dA",
        "colab": {
          "base_uri": "https://localhost:8080/"
        },
        "outputId": "991795ca-7dfe-42c6-cd73-437b3cd8b666"
      },
      "execution_count": 102,
      "outputs": [
        {
          "output_type": "execute_result",
          "data": {
            "text/plain": [
              "<map at 0x7f5300252580>"
            ]
          },
          "metadata": {},
          "execution_count": 102
        }
      ]
    },
    {
      "cell_type": "code",
      "source": [
        "list(map(times2, seq))"
      ],
      "metadata": {
        "id": "XjczuyL1hCIR",
        "colab": {
          "base_uri": "https://localhost:8080/"
        },
        "outputId": "9208cfea-a650-43b9-aff7-7d609749c9c1"
      },
      "execution_count": 103,
      "outputs": [
        {
          "output_type": "execute_result",
          "data": {
            "text/plain": [
              "[2, 4, 6, 8, 10]"
            ]
          },
          "metadata": {},
          "execution_count": 103
        }
      ]
    },
    {
      "cell_type": "code",
      "source": [
        "list(map(lambda var: var*2, seq))"
      ],
      "metadata": {
        "id": "_PFdkHDOhGWX",
        "colab": {
          "base_uri": "https://localhost:8080/"
        },
        "outputId": "a8d5836b-1d6f-4c0f-8a7c-4a0f925cde96"
      },
      "execution_count": 104,
      "outputs": [
        {
          "output_type": "execute_result",
          "data": {
            "text/plain": [
              "[2, 4, 6, 8, 10]"
            ]
          },
          "metadata": {},
          "execution_count": 104
        }
      ]
    },
    {
      "cell_type": "code",
      "source": [
        "filter(lambda item: item%2 == 0, seq)"
      ],
      "metadata": {
        "id": "tNK8QUmthNyC",
        "colab": {
          "base_uri": "https://localhost:8080/"
        },
        "outputId": "745e3028-032e-49ec-fcbe-eab30f6880d1"
      },
      "execution_count": 105,
      "outputs": [
        {
          "output_type": "execute_result",
          "data": {
            "text/plain": [
              "<filter at 0x7f53002493a0>"
            ]
          },
          "metadata": {},
          "execution_count": 105
        }
      ]
    },
    {
      "cell_type": "code",
      "source": [
        "list(filter(lambda item: item%2 == 0, seq))"
      ],
      "metadata": {
        "id": "X8l92kzrhVtv",
        "colab": {
          "base_uri": "https://localhost:8080/"
        },
        "outputId": "24b11175-04a9-4dda-cf39-03c05fc8539e"
      },
      "execution_count": 106,
      "outputs": [
        {
          "output_type": "execute_result",
          "data": {
            "text/plain": [
              "[2, 4]"
            ]
          },
          "metadata": {},
          "execution_count": 106
        }
      ]
    },
    {
      "cell_type": "code",
      "source": [
        "# Methods"
      ],
      "metadata": {
        "id": "Kb3KGh23hZ7t"
      },
      "execution_count": 107,
      "outputs": []
    },
    {
      "cell_type": "code",
      "source": [
        "st = 'hello my name is Sam'"
      ],
      "metadata": {
        "id": "1ZYCgm7mhdVT"
      },
      "execution_count": 108,
      "outputs": []
    },
    {
      "cell_type": "code",
      "source": [
        "st.lower()"
      ],
      "metadata": {
        "id": "YE2bsdzYhhfc",
        "colab": {
          "base_uri": "https://localhost:8080/",
          "height": 35
        },
        "outputId": "0dab16f6-d241-43a7-fade-7d0863ba90bf"
      },
      "execution_count": 109,
      "outputs": [
        {
          "output_type": "execute_result",
          "data": {
            "text/plain": [
              "'hello my name is sam'"
            ],
            "application/vnd.google.colaboratory.intrinsic+json": {
              "type": "string"
            }
          },
          "metadata": {},
          "execution_count": 109
        }
      ]
    },
    {
      "cell_type": "code",
      "source": [
        "st.upper()"
      ],
      "metadata": {
        "id": "NGYgPNjbhkCH",
        "colab": {
          "base_uri": "https://localhost:8080/",
          "height": 35
        },
        "outputId": "fb888a4a-3145-4dcd-c6c4-92e46faf73d8"
      },
      "execution_count": 110,
      "outputs": [
        {
          "output_type": "execute_result",
          "data": {
            "text/plain": [
              "'HELLO MY NAME IS SAM'"
            ],
            "application/vnd.google.colaboratory.intrinsic+json": {
              "type": "string"
            }
          },
          "metadata": {},
          "execution_count": 110
        }
      ]
    },
    {
      "cell_type": "code",
      "source": [
        "st.split()"
      ],
      "metadata": {
        "id": "Z48NJsGihnE5",
        "colab": {
          "base_uri": "https://localhost:8080/"
        },
        "outputId": "573b446f-bc21-448f-9bb2-cf574eae7ee5"
      },
      "execution_count": 111,
      "outputs": [
        {
          "output_type": "execute_result",
          "data": {
            "text/plain": [
              "['hello', 'my', 'name', 'is', 'Sam']"
            ]
          },
          "metadata": {},
          "execution_count": 111
        }
      ]
    },
    {
      "cell_type": "code",
      "source": [
        "tweet = \"Go Sports! #Sports\""
      ],
      "metadata": {
        "id": "nKaw7gMYhrNX"
      },
      "execution_count": 112,
      "outputs": []
    },
    {
      "cell_type": "code",
      "source": [
        "tweet.split('#')"
      ],
      "metadata": {
        "id": "6VxD_R0JhyGt",
        "colab": {
          "base_uri": "https://localhost:8080/"
        },
        "outputId": "eeab8a45-7f40-4435-8a15-ef25ba40f696"
      },
      "execution_count": 113,
      "outputs": [
        {
          "output_type": "execute_result",
          "data": {
            "text/plain": [
              "['Go Sports! ', 'Sports']"
            ]
          },
          "metadata": {},
          "execution_count": 113
        }
      ]
    },
    {
      "cell_type": "code",
      "source": [
        "tweet.split('#')[1]"
      ],
      "metadata": {
        "id": "8woW9UNRh8HE",
        "colab": {
          "base_uri": "https://localhost:8080/",
          "height": 35
        },
        "outputId": "1ddf8373-8bf3-4cc6-a74e-166a4996beb1"
      },
      "execution_count": 114,
      "outputs": [
        {
          "output_type": "execute_result",
          "data": {
            "text/plain": [
              "'Sports'"
            ],
            "application/vnd.google.colaboratory.intrinsic+json": {
              "type": "string"
            }
          },
          "metadata": {},
          "execution_count": 114
        }
      ]
    },
    {
      "cell_type": "code",
      "source": [
        "d"
      ],
      "metadata": {
        "id": "Mo2ExWiLiDdM",
        "colab": {
          "base_uri": "https://localhost:8080/"
        },
        "outputId": "fc35ec44-ee81-4c6d-e6a4-c9c70b697919"
      },
      "execution_count": 115,
      "outputs": [
        {
          "output_type": "execute_result",
          "data": {
            "text/plain": [
              "{'key1': 'item1', 'key2': 'item2'}"
            ]
          },
          "metadata": {},
          "execution_count": 115
        }
      ]
    },
    {
      "cell_type": "code",
      "source": [
        "d.keys()"
      ],
      "metadata": {
        "id": "h_cZAxneiGoN",
        "colab": {
          "base_uri": "https://localhost:8080/"
        },
        "outputId": "b457f129-bd2e-4bfa-c116-9a293f578597"
      },
      "execution_count": 116,
      "outputs": [
        {
          "output_type": "execute_result",
          "data": {
            "text/plain": [
              "dict_keys(['key1', 'key2'])"
            ]
          },
          "metadata": {},
          "execution_count": 116
        }
      ]
    },
    {
      "cell_type": "code",
      "source": [
        "d.items()"
      ],
      "metadata": {
        "id": "fapHMV7niJFB",
        "colab": {
          "base_uri": "https://localhost:8080/"
        },
        "outputId": "c96a15af-ede0-4c5e-af18-bfabcc244f8d"
      },
      "execution_count": 117,
      "outputs": [
        {
          "output_type": "execute_result",
          "data": {
            "text/plain": [
              "dict_items([('key1', 'item1'), ('key2', 'item2')])"
            ]
          },
          "metadata": {},
          "execution_count": 117
        }
      ]
    },
    {
      "cell_type": "code",
      "source": [
        "lst = [1,2,3]"
      ],
      "metadata": {
        "id": "oJ76_ZTeiMJW"
      },
      "execution_count": 118,
      "outputs": []
    },
    {
      "cell_type": "code",
      "source": [
        "lst"
      ],
      "metadata": {
        "id": "eZvFjCKWiPoP",
        "colab": {
          "base_uri": "https://localhost:8080/"
        },
        "outputId": "e3fca4eb-7ecf-4ede-a18b-fad880f2e848"
      },
      "execution_count": 119,
      "outputs": [
        {
          "output_type": "execute_result",
          "data": {
            "text/plain": [
              "[1, 2, 3]"
            ]
          },
          "metadata": {},
          "execution_count": 119
        }
      ]
    },
    {
      "cell_type": "code",
      "source": [
        "'x'in [1, 2, 3]"
      ],
      "metadata": {
        "id": "4xwPruDAiR34",
        "colab": {
          "base_uri": "https://localhost:8080/"
        },
        "outputId": "ecf39d1d-26fa-48a5-a193-0127cc3f04e7"
      },
      "execution_count": 120,
      "outputs": [
        {
          "output_type": "execute_result",
          "data": {
            "text/plain": [
              "False"
            ]
          },
          "metadata": {},
          "execution_count": 120
        }
      ]
    },
    {
      "cell_type": "code",
      "source": [
        "'x' in ['x', 'y', 'z']"
      ],
      "metadata": {
        "id": "gudTNramiVlr",
        "colab": {
          "base_uri": "https://localhost:8080/"
        },
        "outputId": "36fb3543-e5da-4e2c-d34b-18bb31335768"
      },
      "execution_count": 121,
      "outputs": [
        {
          "output_type": "execute_result",
          "data": {
            "text/plain": [
              "True"
            ]
          },
          "metadata": {},
          "execution_count": 121
        }
      ]
    }
  ]
}